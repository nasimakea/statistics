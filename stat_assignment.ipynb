{
  "nbformat": 4,
  "nbformat_minor": 0,
  "metadata": {
    "colab": {
      "provenance": []
    },
    "kernelspec": {
      "name": "python3",
      "display_name": "Python 3"
    },
    "language_info": {
      "name": "python"
    }
  },
  "cells": [
    {
      "cell_type": "code",
      "execution_count": null,
      "metadata": {
        "id": "JAFJQKqevCyr"
      },
      "outputs": [],
      "source": []
    },
    {
      "cell_type": "markdown",
      "source": [
        "# Q1. What is the Probability density function?"
      ],
      "metadata": {
        "id": "_k-A8uiMvDyp"
      }
    },
    {
      "cell_type": "code",
      "source": [],
      "metadata": {
        "id": "6oC6kxo3vIOZ"
      },
      "execution_count": null,
      "outputs": []
    },
    {
      "cell_type": "markdown",
      "source": [
        "# ANS:-\n",
        "\n",
        " (PDF) is a concept in probability theory and statistics that describes the likelihood of a continuous random variable taking on a specific value. In other words, it represents the probability distribution of a continuous random variable over its entire range. The PDF is denoted by\n",
        "\n",
        "f(x), where\n",
        "\n",
        "x is the variable in question.\n",
        "\n"
      ],
      "metadata": {
        "id": "i3XZLv5mwPDA"
      }
    },
    {
      "cell_type": "code",
      "source": [],
      "metadata": {
        "id": "4cx9bxVvwYDa"
      },
      "execution_count": null,
      "outputs": []
    },
    {
      "cell_type": "markdown",
      "source": [
        "# Q2. What are the types of Probability distribution?"
      ],
      "metadata": {
        "id": "xWsVJclSw2FJ"
      }
    },
    {
      "cell_type": "code",
      "source": [],
      "metadata": {
        "id": "nPijEPKmw3G2"
      },
      "execution_count": null,
      "outputs": []
    },
    {
      "cell_type": "markdown",
      "source": [
        "# ANS:-\n",
        "There are two main types of probability distributions: discrete and continuous.\n",
        "\n",
        "Discrete Probability Distribution:\n",
        "\n",
        "Probability Mass Function (PMF): Describes the probabilities of discrete random variables taking specific values. It is denoted by\n",
        "\n",
        "P(X=x), where\n",
        "\n",
        "X is the random variable and\n",
        "\n",
        "x is a specific value it can take.\n",
        "\n",
        "\n",
        "\n",
        "#Examples:\n",
        "Bernoulli Distribution: Describes the probability of success or failure in a single experiment.\n",
        "\n",
        "\n",
        "\n",
        "#Binomial Distribution: Describes the number of successes in a fixed number of independent Bernoulli trials.\n",
        "#Poisson Distribution: Models the number of events occurring in fixed intervals of time or space.\n",
        "#Continuous Probability Distribution:\n",
        "\n",
        "#Probability Density Function (PDF): Describes the probabilities of continuous random variables falling within a particular range. It is denoted by\n",
        "\n",
        "f(x), where\n",
        "\n",
        "x is a continuous variable.\n",
        "Examples:\n",
        "Normal Distribution: A symmetric bell-shaped distribution characterized by mean\n",
        "(μ) and standard deviation (\n",
        "\n",
        "σ).\n",
        "Uniform Distribution: All values within a given range are equally likely.\n",
        "Exponential Distribution: Models the time until an event occurs in a Poisson process."
      ],
      "metadata": {
        "id": "0C57ntmTw3sA"
      }
    },
    {
      "cell_type": "code",
      "source": [],
      "metadata": {
        "id": "XiNzcmFrxeCt"
      },
      "execution_count": null,
      "outputs": []
    },
    {
      "cell_type": "markdown",
      "source": [
        "# Q3. Write a Python function to calculate the probability density function of a normal distribution with\n",
        "given mean and standard deviation at a given point."
      ],
      "metadata": {
        "id": "s5PBYlKIxy3X"
      }
    },
    {
      "cell_type": "code",
      "source": [],
      "metadata": {
        "id": "_g6xXckDxz8G"
      },
      "execution_count": null,
      "outputs": []
    },
    {
      "cell_type": "markdown",
      "source": [
        "# ANS:-"
      ],
      "metadata": {
        "id": "i2kj90LByqJK"
      }
    },
    {
      "cell_type": "code",
      "source": [
        "import math\n",
        "\n",
        "def normal_pdf(x, mean, std_dev):\n",
        "\n",
        "    coefficient = 1 / (std_dev * math.sqrt(2 * math.pi))\n",
        "    exponent_term = math.exp(-((x - mean)**2) / (2 * std_dev**2))\n",
        "    pdf_value = coefficient * exponent_term\n",
        "    return pdf_value\n",
        "\n",
        "\n"
      ],
      "metadata": {
        "id": "6SwWUa7fyrb-"
      },
      "execution_count": 1,
      "outputs": []
    },
    {
      "cell_type": "code",
      "source": [
        "mean_value = 0\n",
        "std_dev_value = 1\n",
        "point_to_evaluate = 1.5\n",
        "\n",
        "pdf_result = normal_pdf(point_to_evaluate, mean_value, std_dev_value)\n",
        "print(f\"The pdf at {point_to_evaluate} is: {pdf_result}\")"
      ],
      "metadata": {
        "colab": {
          "base_uri": "https://localhost:8080/"
        },
        "id": "H9Ge34FwywYq",
        "outputId": "6666feac-823c-4bff-ce41-d9f9431e1151"
      },
      "execution_count": 2,
      "outputs": [
        {
          "output_type": "stream",
          "name": "stdout",
          "text": [
            "The pdf at 1.5 is: 0.12951759566589174\n"
          ]
        }
      ]
    },
    {
      "cell_type": "code",
      "source": [],
      "metadata": {
        "id": "ngtuxfGJzI9p"
      },
      "execution_count": null,
      "outputs": []
    },
    {
      "cell_type": "markdown",
      "source": [
        "# Q4. What are the properties of Binomial distribution? Give two examples of events where binomial\n",
        "distribution can be applied."
      ],
      "metadata": {
        "id": "zPpTeypNzQb-"
      }
    },
    {
      "cell_type": "code",
      "source": [],
      "metadata": {
        "id": "l3jMxSGgzRiN"
      },
      "execution_count": null,
      "outputs": []
    },
    {
      "cell_type": "markdown",
      "source": [
        "# ANS:- IT has first the properties of bernoulli trials as it is n bernoulis trials\n",
        "\n",
        "Number of Trials (n): The distribution is characterized by the number of trials, denoted as\n",
        "\n",
        "n, which is the fixed and predetermined number of trials\n",
        "\n",
        "\n",
        "\n",
        "# Bernoulli Trials: The binomial distribution is based on a sequence of Bernoulli trials, where each trial results in a success with probability\n",
        "\n",
        "p or a failure with probability\n",
        "\n",
        "\n",
        "\n",
        "\n",
        "q=1−p. The trials are independent, meaning the outcome of one trial does not affect the outcome of another."
      ],
      "metadata": {
        "id": "9ByfedK4zkJn"
      }
    },
    {
      "cell_type": "code",
      "source": [],
      "metadata": {
        "id": "LQxD7tO_zpuh"
      },
      "execution_count": null,
      "outputs": []
    },
    {
      "cell_type": "markdown",
      "source": [
        "Scenario: Tossing a biased coin where the probability of getting heads (\n",
        "\n",
        "p) is, for example, 0.7.\n",
        "\n",
        "\n",
        "# Scenario: Testing a batch of items for defects, where each item has a probability\n",
        "\n",
        "p of being defective"
      ],
      "metadata": {
        "id": "U8bUHi4L0cun"
      }
    },
    {
      "cell_type": "code",
      "source": [],
      "metadata": {
        "id": "Nz5dZ7ZG0iQN"
      },
      "execution_count": null,
      "outputs": []
    },
    {
      "cell_type": "markdown",
      "source": [
        "# Q5. Generate a random sample of size 1000 from a binomial distribution with probability of success 0.4 and plot a histogram of the results using matplotlib."
      ],
      "metadata": {
        "id": "jgoCi8mZ0riC"
      }
    },
    {
      "cell_type": "code",
      "source": [],
      "metadata": {
        "id": "Uzb4dQnm0teU"
      },
      "execution_count": null,
      "outputs": []
    },
    {
      "cell_type": "markdown",
      "source": [
        "# ANS:-"
      ],
      "metadata": {
        "id": "kSnDf74121sK"
      }
    },
    {
      "cell_type": "code",
      "source": [
        "import numpy as np\n",
        "import matplotlib.pyplot as plt\n",
        "\n",
        "\n",
        "Sample_size = 1000\n",
        "Probability_of_success = 0.4\n",
        "Number_of_trials = 1\n",
        "\n",
        "\n",
        "Random_sample = np.random.binomial(Number_of_trials, Probability_of_success, Sample_size)\n",
        "\n",
        "\n",
        "plt.hist(Random_sample, bins=np.arange(-0.5, Number_of_trials + 1.5, 1), edgecolor='black')\n",
        "plt.title('Binomial Distribution - Random Sample')\n",
        "plt.xlabel('Number of Successes')\n",
        "plt.ylabel('Frequency')\n",
        "plt.grid(axis='y', alpha=0.75)\n",
        "plt.show()\n"
      ],
      "metadata": {
        "colab": {
          "base_uri": "https://localhost:8080/",
          "height": 472
        },
        "id": "4dSmqnbx24Wj",
        "outputId": "ce9a6f38-7c2c-484e-a519-0c494643a8a6"
      },
      "execution_count": 4,
      "outputs": [
        {
          "output_type": "display_data",
          "data": {
            "text/plain": [
              "<Figure size 640x480 with 1 Axes>"
            ],
            "image/png": "[encoded data removed]"
          },
          "metadata": {}
        }
      ]
    },
    {
      "cell_type": "code",
      "source": [],
      "metadata": {
        "id": "BgXu8kaN3M-9"
      },
      "execution_count": null,
      "outputs": []
    },
    {
      "cell_type": "markdown",
      "source": [
        "# Q6. Write a Python function to calculate the cumulative distribution function of a Poisson distribution with given mean at a given point."
      ],
      "metadata": {
        "id": "VE_AXT0n3bZI"
      }
    },
    {
      "cell_type": "code",
      "source": [],
      "metadata": {
        "id": "syBZYGu03eX2"
      },
      "execution_count": null,
      "outputs": []
    },
    {
      "cell_type": "markdown",
      "source": [
        "# Q7. How Binomial distribution different from Poisson distribution?"
      ],
      "metadata": {
        "id": "KfhX9aeNRWlD"
      }
    },
    {
      "cell_type": "code",
      "source": [],
      "metadata": {
        "id": "puqip5rHRXiJ"
      },
      "execution_count": null,
      "outputs": []
    },
    {
      "cell_type": "markdown",
      "source": [
        "# ANS:-\n",
        "\n",
        "Binomial Distribution:\n",
        "\n",
        "Models the number of successes in a fixed number of independent and identically distributed Bernoulli trials.\n",
        "Requires a fixed number of trials (n).\n",
        "The probability of success (p) remains constant across all trials.\n",
        "The random variable represents the count of successes in the specified number of trials.\n",
        "\n",
        "\n",
        "\n",
        "\n",
        "# Poisson Distribution:\n",
        "\n",
        "Models the number of events occurring in a fixed interval of time or space.\n",
        "Does not have a fixed number of trials; events can happen any number of times.\n",
        "The parameter\n",
        "\n",
        "λ represents the average rate of events per interval.\n",
        "The random variable represents the count of events occurring in the specified interval."
      ],
      "metadata": {
        "id": "joigwLpcRjT8"
      }
    },
    {
      "cell_type": "code",
      "source": [],
      "metadata": {
        "id": "kH-7BN7zR1mF"
      },
      "execution_count": null,
      "outputs": []
    },
    {
      "cell_type": "markdown",
      "source": [
        "Q8. Generate a random sample of size 1000 from a Poisson distribution with mean 5 and calculate the\n",
        "sample mean and variance."
      ],
      "metadata": {
        "id": "iaJ686_JR8ce"
      }
    },
    {
      "cell_type": "code",
      "source": [],
      "metadata": {
        "id": "3uMgyimwR9RQ"
      },
      "execution_count": null,
      "outputs": []
    },
    {
      "cell_type": "markdown",
      "source": [
        "# ANS:-"
      ],
      "metadata": {
        "id": "6_RFzLjKR-Cp"
      }
    },
    {
      "cell_type": "code",
      "source": [
        "import numpy as np\n",
        "\n",
        "# Set the parameters\n",
        "sample_size = 1000\n",
        "poisson_mean = 5\n",
        "\n",
        "# Generate the random sample\n",
        "random_sample = np.random.poisson(poisson_mean, size=sample_size)\n",
        "\n",
        "# Calculate sample mean and variance\n",
        "sample_mean = np.mean(random_sample)\n",
        "sample_variance = np.var(random_sample)\n",
        "\n",
        "# Print the results\n",
        "print(f\"Sample Mean: {sample_mean}\")\n",
        "print(f\"Sample Variance: {sample_variance}\")\n"
      ],
      "metadata": {
        "colab": {
          "base_uri": "https://localhost:8080/"
        },
        "id": "qHTNYn9iSHkH",
        "outputId": "f74ce0ed-6a19-44a3-b405-63cb82fcd9a6"
      },
      "execution_count": 1,
      "outputs": [
        {
          "output_type": "stream",
          "name": "stdout",
          "text": [
            "Sample Mean: 5.093\n",
            "Sample Variance: 4.616351\n"
          ]
        }
      ]
    },
    {
      "cell_type": "code",
      "source": [],
      "metadata": {
        "id": "C4xX0HNLSLmv"
      },
      "execution_count": null,
      "outputs": []
    }
  ]
}