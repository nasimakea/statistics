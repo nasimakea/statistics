{
  "nbformat": 4,
  "nbformat_minor": 0,
  "metadata": {
    "colab": {
      "provenance": []
    },
    "kernelspec": {
      "name": "python3",
      "display_name": "Python 3"
    },
    "language_info": {
      "name": "python"
    }
  },
  "cells": [
    {
      "cell_type": "code",
      "execution_count": null,
      "metadata": {
        "id": "l13fDieabgRN"
      },
      "outputs": [],
      "source": []
    },
    {
      "cell_type": "markdown",
      "source": [
        "# Q1: What are the Probability Mass Function (PMF) and Probability Density Function (PDF)? Explain with an example."
      ],
      "metadata": {
        "id": "izJB08-0bsAk"
      }
    },
    {
      "cell_type": "code",
      "source": [],
      "metadata": {
        "id": "qu1tp6r5buJ6"
      },
      "execution_count": null,
      "outputs": []
    },
    {
      "cell_type": "markdown",
      "source": [
        "\n",
        "# ANS:-\n",
        "# The PMF Which stands for probablity mass function is basically associated to the discrete varible where it gives the probabilty of any specifics discrete number in all possible outcomes\n",
        "\n",
        "# let's say we roll a dice , then it can have outcomes as 1,2,3,4,5,6\n",
        "# then p(X=1)=1/6 and p(X=2)=1/6 and so on"
      ],
      "metadata": {
        "id": "tG9NCopBccSZ"
      }
    },
    {
      "cell_type": "code",
      "source": [],
      "metadata": {
        "id": "_Zv6eL8PdQwD"
      },
      "execution_count": null,
      "outputs": []
    },
    {
      "cell_type": "markdown",
      "source": [
        "# Let's talk about probability density function which is basically associated to the continious varable . it gives probability of any outcome in a range which is also calculated by the area enclosed in that range\n",
        "\n",
        "\n"
      ],
      "metadata": {
        "id": "3jIcOUlwdVgQ"
      }
    },
    {
      "cell_type": "code",
      "source": [],
      "metadata": {
        "id": "mBLS5SV0eLby"
      },
      "execution_count": null,
      "outputs": []
    },
    {
      "cell_type": "markdown",
      "source": [
        "# Q2: What is Cumulative Density Function (CDF)? Explain with an example. Why CDF is used?"
      ],
      "metadata": {
        "id": "32XnzJnUeQJI"
      }
    },
    {
      "cell_type": "code",
      "source": [],
      "metadata": {
        "id": "gTsSsOQ3eRNf"
      },
      "execution_count": null,
      "outputs": []
    },
    {
      "cell_type": "markdown",
      "source": [
        "# ANS:-"
      ],
      "metadata": {
        "id": "7F87oVP1e0cJ"
      }
    },
    {
      "cell_type": "code",
      "source": [],
      "metadata": {
        "id": "k4PX260Se4wO"
      },
      "execution_count": null,
      "outputs": []
    },
    {
      "cell_type": "markdown",
      "source": [
        "wether it is PMF or PDF , there is cdf which simply means cumulative density function , let's first talk about cdf in pmf.\n",
        "let's understand with the help of an example.\n",
        "\n",
        "\n",
        "let's roll a dice , then the possible outcome might be 1,2,3,4,5,6\n",
        "so, CDF here can be\n",
        "\n",
        "p(X<=3)= p(X=1)+p(X=2)+p(X=3)\n",
        "p(X<=3)=1/6+1/6+1/6\n",
        "p(X<=3)=1/2\n",
        "\n",
        "\n",
        "\n",
        "\n",
        "\n",
        "Let's use the example of the height of adults in a population. If X is the height, then the CDF at a specific height x, denoted as F(x), would give the probability that a randomly selected person's height is less than or equal to x."
      ],
      "metadata": {
        "id": "TjSHIQN_EAFz"
      }
    },
    {
      "cell_type": "code",
      "source": [],
      "metadata": {
        "id": "xMFdtNH3FUDn"
      },
      "execution_count": null,
      "outputs": []
    },
    {
      "cell_type": "markdown",
      "source": [
        "# Q3: What are some examples of situations where the normal distribution might be used as a model? Explain how the parameters of the normal distribution relate to the shape of the distribution."
      ],
      "metadata": {
        "id": "JV-BizJUFYcR"
      }
    },
    {
      "cell_type": "code",
      "source": [],
      "metadata": {
        "id": "VqlTP5a-FaZL"
      },
      "execution_count": null,
      "outputs": []
    },
    {
      "cell_type": "markdown",
      "source": [
        "# ANS:-\n",
        "\n",
        "The height of a population often follows a normal distribution. Most people cluster around the average height, with fewer individuals at the extremes (very short or very tall)\n",
        "\n",
        "\n",
        "# Intelligence Quotient (IQ) scores are often modeled using a normal distribution. The majority of the population falls around the average IQ, with fewer individuals having extremely high or low scores.\n",
        "\n",
        "\n",
        "#  the mean determines the center or location of the normal distribution, while the standard deviation influences the spread or variability. Adjusting these parameters allows one to tailor the normal distribution model to fit different types of data."
      ],
      "metadata": {
        "id": "u9b1IQ3wGjMl"
      }
    },
    {
      "cell_type": "code",
      "source": [],
      "metadata": {
        "id": "nN--ax3hG4Dv"
      },
      "execution_count": null,
      "outputs": []
    },
    {
      "cell_type": "markdown",
      "source": [
        "# Q4: Explain the importance of Normal Distribution. Give a few real-life examples of Normal Distribution."
      ],
      "metadata": {
        "id": "Ud91T_JmG7FQ"
      }
    },
    {
      "cell_type": "code",
      "source": [],
      "metadata": {
        "id": "gY5B-Gt1G9dx"
      },
      "execution_count": null,
      "outputs": []
    },
    {
      "cell_type": "markdown",
      "source": [
        "# ANS:-\n",
        "#\n",
        "The normal distribution is crucial in statistics and probability due to its mathematical properties, making it a widely applicable model in various real-life scenarios. Its importance lies in simplifying complex systems, aiding in statistical inference, and facilitating predictive modeling. Real-life examples include the distribution of heights in populations, IQ scores, financial market returns, measurement errors, and scores on standardized tests. The normal distribution's symmetry and the empirical rule make it a versatile tool for understanding and analyzing natural phenomena, contributing to the foundation of statistical theory and practical applications in diverse fields."
      ],
      "metadata": {
        "id": "BCSYgK2_HN3H"
      }
    },
    {
      "cell_type": "code",
      "source": [],
      "metadata": {
        "id": "FsZ0pYBaHQxs"
      },
      "execution_count": null,
      "outputs": []
    },
    {
      "cell_type": "markdown",
      "source": [
        "# Q5: What is Bernaulli Distribution? Give an Example. What is the difference between Bernoulli Distribution and Binomial Distribution?"
      ],
      "metadata": {
        "id": "4KfIBzzqHT13"
      }
    },
    {
      "cell_type": "code",
      "source": [],
      "metadata": {
        "id": "oh4ujhtcHWKm"
      },
      "execution_count": null,
      "outputs": []
    },
    {
      "cell_type": "markdown",
      "source": [
        "# ANS:-\n",
        "\n",
        "\n",
        "Bernoulli Distribution:\n",
        "The Bernoulli Distribution models a single binary experiment with two possible outcomes – success (usually denoted as 1) or failure (usually denoted as 0). It is characterized by a probability parameter\n",
        "\n",
        "p, representing the probability of success.\n",
        "\n",
        "Example:\n",
        "Flipping a fair coin, where getting heads is considered success (1) and getting tails is considered failure (0), follows a Bernoulli Distribution with\n",
        "\n",
        "\n",
        "p=0.5.\n",
        "\n",
        "Difference between Bernoulli and Binomial Distribution:\n",
        "\n",
        "Bernoulli Distribution: Models a single trial with two outcomes (success or failure).\n",
        "Binomial Distribution: Models the number of successes in a fixed number of independent Bernoulli trials. It is the sum of independent and identically distributed Bernoulli random variables.\n",
        "In short, Bernoulli is for one trial, while Binomial is for the sum of multiple independent trials."
      ],
      "metadata": {
        "id": "SZGpzRftHdkO"
      }
    },
    {
      "cell_type": "code",
      "source": [],
      "metadata": {
        "id": "7u-fjOMQHouW"
      },
      "execution_count": null,
      "outputs": []
    },
    {
      "cell_type": "markdown",
      "source": [
        "# Q6. Consider a dataset with a mean of 50 and a standard deviation of 10. If we assume that the dataset is normally distributed, what is the probability that a randomly selected observation will be greater than 60? Use the appropriate formula and show your calculations."
      ],
      "metadata": {
        "id": "EDhtc4z6HufQ"
      }
    },
    {
      "cell_type": "code",
      "source": [],
      "metadata": {
        "id": "FWi2tcIJHxeY"
      },
      "execution_count": null,
      "outputs": []
    },
    {
      "cell_type": "markdown",
      "source": [
        "# ANS :- TO find the probabilty we will find z score then determine the probabilty"
      ],
      "metadata": {
        "id": "NDmFcQdHIq-T"
      }
    },
    {
      "cell_type": "code",
      "source": [
        "mean=50\n",
        "std=10\n",
        "x=60"
      ],
      "metadata": {
        "id": "zOjOFwaQI0pE"
      },
      "execution_count": 1,
      "outputs": []
    },
    {
      "cell_type": "code",
      "source": [
        "z_score=(x-mean)/std"
      ],
      "metadata": {
        "id": "ffi7OcLmI9Fj"
      },
      "execution_count": 2,
      "outputs": []
    },
    {
      "cell_type": "code",
      "source": [
        "print(z_score)"
      ],
      "metadata": {
        "colab": {
          "base_uri": "https://localhost:8080/"
        },
        "id": "e4EbKGY_JCJ6",
        "outputId": "272c06d3-309c-493a-fdab-42f110b24f90"
      },
      "execution_count": 3,
      "outputs": [
        {
          "output_type": "stream",
          "name": "stdout",
          "text": [
            "1.0\n"
          ]
        }
      ]
    },
    {
      "cell_type": "code",
      "source": [],
      "metadata": {
        "id": "B9NwtscEJFzS"
      },
      "execution_count": null,
      "outputs": []
    },
    {
      "cell_type": "markdown",
      "source": [
        "# when we see the z score table , then value corresponding to 1 is 0.84134\n",
        "#probalibliy is around 84%"
      ],
      "metadata": {
        "id": "7udj4q-UJG51"
      }
    },
    {
      "cell_type": "code",
      "source": [],
      "metadata": {
        "id": "nwaaCRvhJczS"
      },
      "execution_count": null,
      "outputs": []
    },
    {
      "cell_type": "markdown",
      "source": [
        "# Q7: Explain uniform Distribution with an example."
      ],
      "metadata": {
        "id": "FIw-LAvDJgk7"
      }
    },
    {
      "cell_type": "code",
      "source": [],
      "metadata": {
        "id": "jR-SUIdLJhfe"
      },
      "execution_count": null,
      "outputs": []
    },
    {
      "cell_type": "markdown",
      "source": [
        "# ANS:-  \n",
        "# Uniform distribution is a probability distribution where every possible outcome is equally likely. In a uniform distribution, each value within a given range has the same probability of occurring. An example of a uniform distribution is rolling a fair six-sided die. Each of the six outcomes (1, 2, 3, 4, 5, 6) has an equal probability of 1/6\n"
      ],
      "metadata": {
        "id": "TlkDMqVnJ1BQ"
      }
    },
    {
      "cell_type": "code",
      "source": [],
      "metadata": {
        "id": "Hu21ucQrJ-sW"
      },
      "execution_count": null,
      "outputs": []
    },
    {
      "cell_type": "markdown",
      "source": [
        "# ANS:- The z-score is a statistical measure that quantifies the number of standard deviations a data point is from the mean of a dataset. It is calculated using the formula:\n",
        "\n",
        "#z= (X-μ)/σ\n",
        "\n",
        "# , where\n",
        "\n",
        "#X is the individual data point,\n",
        "\n",
        "#μ is the mean, and\n",
        "\n",
        "#σ is the standard deviation.\n",
        "\n",
        "#The importance of the z-score lies in its ability to standardize and compare data from different normal distributions. It helps identify how far a particular data point is from the mean in terms of standard deviations. This standardization facilitates the comparison of scores from different datasets, enabling a better understanding of the relative position of data points within their respective distributions."
      ],
      "metadata": {
        "id": "sPxKLdsJKM9P"
      }
    },
    {
      "cell_type": "code",
      "source": [],
      "metadata": {
        "id": "ZJRuiQeCKtAD"
      },
      "execution_count": null,
      "outputs": []
    }
  ]
}