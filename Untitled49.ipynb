{
  "nbformat": 4,
  "nbformat_minor": 0,
  "metadata": {
    "colab": {
      "provenance": []
    },
    "kernelspec": {
      "name": "python3",
      "display_name": "Python 3"
    },
    "language_info": {
      "name": "python"
    }
  },
  "cells": [
    {
      "cell_type": "code",
      "execution_count": null,
      "metadata": {
        "id": "vRNWtFe8Ywbb"
      },
      "outputs": [],
      "source": []
    },
    {
      "cell_type": "markdown",
      "source": [
        "# Q1. What is Statistics?"
      ],
      "metadata": {
        "id": "LD6CY-ORYy9Q"
      }
    },
    {
      "cell_type": "code",
      "source": [],
      "metadata": {
        "id": "AXH3O5MXYz9S"
      },
      "execution_count": null,
      "outputs": []
    },
    {
      "cell_type": "markdown",
      "source": [
        "# ANS: statistics is one of the branches of mathematics where we collect data , analyze and try to  take out meaningfull inferences about the population by applying mathematical tools.we draw many graphs such as bar plot , scatter plot, histogram and many more to visulize the data"
      ],
      "metadata": {
        "id": "40d9rSReZJUs"
      }
    },
    {
      "cell_type": "code",
      "source": [],
      "metadata": {
        "id": "tP_XiUHQZvRh"
      },
      "execution_count": null,
      "outputs": []
    },
    {
      "cell_type": "markdown",
      "source": [
        "# Q2. Define the different types of statistics and give an example of when each type might be used."
      ],
      "metadata": {
        "id": "FzvC451CZ0DC"
      }
    },
    {
      "cell_type": "code",
      "source": [],
      "metadata": {
        "id": "B9ujiPCnZ1Em"
      },
      "execution_count": null,
      "outputs": []
    },
    {
      "cell_type": "markdown",
      "source": [
        "# ANS:- There are mainly two types of statistics __(1)__ Descriptive statistics and other is __(2)__ Inferential statistics\n",
        "\n",
        "\n",
        "# 1. In descriptive statistics , we take same out of population  and then try to find central tendency such as mean median mode\n",
        "standard deviation, ● Variance\n",
        "● Standard Deviation\n",
        "● Mean Deviation\n",
        "● Quartile Deviation\n",
        "● Range, etc\n",
        "\n",
        "#Example: If we have a dataset of exam scores for a class, you might use descriptive statistics to calculate the average (mean) score, the most frequently occurring score (mode), the middle score (median), and the spread of scores (standard deviation). These statistics provide a snapshot of the overall performance of the class without making broader conclusions about other classes or populations.\n",
        "\n",
        "\n",
        "# but in the Inferential statistics , we draw inerences about the population based on the sample using probabiltiy.\n",
        "# Example: Imagine you want to know if a new teaching method is effective in improving exam scores for all students. You might select a random sample of students, apply the new teaching method, and compare their scores with those of a control group that follows the traditional teaching method. Inferential statistics would then help you determine whether any observed differences in scores are likely to be representative of the entire student population or if they could have occurred by chance. Hypothesis testing and confidence intervals are common tools in inferential statistics"
      ],
      "metadata": {
        "id": "-mRjQynzZ1pn"
      }
    },
    {
      "cell_type": "code",
      "source": [],
      "metadata": {
        "id": "KuujvlUXbxzy"
      },
      "execution_count": null,
      "outputs": []
    },
    {
      "cell_type": "markdown",
      "source": [
        "# Q3. What are the different types of data and how do they differ from each other? Provide an example of each type of data."
      ],
      "metadata": {
        "id": "m38kShANb0uH"
      }
    },
    {
      "cell_type": "code",
      "source": [],
      "metadata": {
        "id": "sA19IZA8b3Ab"
      },
      "execution_count": null,
      "outputs": []
    },
    {
      "cell_type": "markdown",
      "source": [
        "# There are basically two types of data\n",
        "#__(1)__  Quantative __(2)__ Qualatitive\n",
        "\n",
        "#__(1)__ Quantative __ :-The data which invovles numbers are quantative data , it further has two types __(i)__ Discrete data __(ii)__ Continious data\n",
        "\n",
        "#  __(2)__ Qualatitive :- The data which involves words other than nubers, but sometimes even , this has numerical data such as date but it numerically doesn't make any sense\n",
        "\n",
        "\n",
        "# (i) Discrete data are the data which involves whole number such as number of children , number of books , it doesn't include decimal value since number child can never be 1.5 or 2.5\n",
        "\n",
        "# (ii) Continious data are those which involve whole number and decimal value as well like as weight , height which can even be decimal values\n",
        "\n",
        "# (i) Nominal Data\n",
        "#Nominal data is one of the types of qualitative information which helps to label the\n",
        "#variables without providing the numerical value. It’s the simplest form of data and is\n",
        "#commonly used for the purpose of classification or categorization. Nominal data is also\n",
        "#called the nominal scale. It cannot be ordered and measured. But sometimes, the data\n",
        "\n",
        "\n",
        "# __(ii)__\n",
        "\n",
        "#Ordinal Data\n",
        "# Ordinal data/variable is a type of data that follows a natural order. The significant feature\n",
        "# of the nominal data is that the difference between the data values is not determined.\n",
        "# This variable is mostly found in surveys, finance, economics, questionnaires, and so on"
      ],
      "metadata": {
        "id": "ME-AZcEmcYpe"
      }
    },
    {
      "cell_type": "code",
      "source": [],
      "metadata": {
        "id": "UTJoRMsPe4U9"
      },
      "execution_count": null,
      "outputs": []
    },
    {
      "cell_type": "markdown",
      "source": [
        "# Q4. Categorise the following datasets with respect to quantitative and qualitative data types:\n",
        "# (i) Grading in exam: A+, A, B+, B, C+, C, D, E\n",
        "# (ii) Colour of mangoes: yellow, green, orange, red\n",
        "# (iii) Height data of a class: [178.9, 179, 179.5, 176, 177.2, 178.3, 175.8,...]\n",
        "# (iv) Number of mangoes exported by a farm: [500, 600, 478, 672, ...]"
      ],
      "metadata": {
        "id": "eH9bPfcPfAIA"
      }
    },
    {
      "cell_type": "code",
      "source": [],
      "metadata": {
        "id": "ec0e2oc1fFpR"
      },
      "execution_count": null,
      "outputs": []
    },
    {
      "cell_type": "markdown",
      "source": [
        "# ANS :-(i) Grading in exam: A+, A, B+, B, C+, C, D, E    it is ordinal data since it has order\n",
        "# (ii) Colour of mangoes: yellow, green, orange, red   it is nominal data\n",
        "\n",
        "# (iii) Height data of a class: [178.9, 179, 179.5, 176, 177.2, 178.3, 175.8,...]  It is continious data\n",
        "\n",
        "# (iv) Number of mangoes exported by a farm: [500, 600, 478, 672, ...]  it is Discrete data\n",
        "#  "
      ],
      "metadata": {
        "id": "TY23vI6afsNM"
      }
    },
    {
      "cell_type": "code",
      "source": [],
      "metadata": {
        "id": "7eEuwZs-gMBx"
      },
      "execution_count": null,
      "outputs": []
    },
    {
      "cell_type": "markdown",
      "source": [
        "# Q5. Explain the concept of levels of measurement and give an example of a variable for each level."
      ],
      "metadata": {
        "id": "-bPcK595gSGp"
      }
    },
    {
      "cell_type": "code",
      "source": [],
      "metadata": {
        "id": "P69OGwFlgUDi"
      },
      "execution_count": null,
      "outputs": []
    },
    {
      "cell_type": "markdown",
      "source": [
        "# ANS:-\n",
        "#Levels of measurement, also known as scales of measurement or types of data, refer to the way data is measured or classified. There are four main levels of measurement: nominal, ordinal, interval, and ratio.\n",
        "\n",
        "#Nominal Level:\n",
        "\n",
        "#Definition: Nominal data represent categories or labels. The data at this level are named or labeled, and there is no inherent order or ranking among the categories.\n",
        "Example: Colors of cars (e.g., red, blue, green) are nominal data. There is no inherent order among these colors; they are just different categories.\n",
        "Ordinal Level:\n",
        "\n",
        "#Definition: Ordinal data represent categories with a meaningful order or ranking. However, the intervals between the categories are not uniform or measurable.\n",
        "Example: Educational attainment levels (e.g., high school diploma, bachelor's degree, master's degree) are ordinal data. While there is a meaningful order, the difference between a high school diploma and a bachelor's degree may not be the same as the difference between a bachelor's degree and a master's degree.\n",
        "\n",
        "\n",
        "Levels of measurement, also known as scales of measurement or types of data, refer to the way data is measured or classified. There are four main levels of measurement: nominal, ordinal, interval, and ratio.\n",
        "\n",
        "Nominal Level:\n",
        "\n",
        "# Nominal data represent categories or labels. The data at this level are named or labeled, and there is no inherent order or ranking among the categories.\n",
        "Example: Colors of cars (e.g., red, blue, green) are nominal data. There is no inherent order among these colors; they are just different categories.\n",
        "Ordinal Level:\n",
        "\n",
        "# Ordinal data represent categories with a meaningful order or ranking. However, the intervals between the categories are not uniform or measurable.\n",
        "Example: Educational attainment levels (e.g., high school diploma, bachelor's degree, master's degree) are ordinal data. While there is a meaningful order, the difference between a high school diploma and a bachelor's degree may not be the same as the difference between a bachelor's degree and a master's degree.\n",
        "\n",
        "\n",
        "Levels of measurement, also known as scales of measurement or types of data, refer to the way data is measured or classified. There are four main levels of measurement: nominal, ordinal, interval, and ratio.\n",
        "\n",
        "#Nominal Level:\n",
        "\n",
        "# Nominal data represent categories or labels. The data at this level are named or labeled, and there is no inherent order or ranking among the categories.\n",
        "Example: Colors of cars (e.g., red, blue, green) are nominal data. There is no inherent order among these colors; they are just different categories.\n",
        "Ordinal Level:\n",
        "\n",
        "# Ordinal data represent categories with a meaningful order or ranking. However, the intervals between the categories are not uniform or measurable.\n",
        "Example: Educational attainment levels (e.g., high school diploma, bachelor's degree, master's degree) are ordinal data. While there is a meaningful order, the difference between a high school diploma and a bachelor's degree may not be\n",
        "\n",
        "the same as the difference between a bachelor's degree and a master's degree.\n",
        "\n",
        "\n",
        "\n",
        "# Interval level:\n",
        "\n",
        "#  Interval data have a meaningful order, and the intervals between values are uniform and measurable. However, there is no true zero point, and ratios of values are not meaningful.\n",
        "Example: Temperature measured in Celsius or Fahrenheit is interval data. While there is a meaningful order and the intervals between degrees are uniform, a temperature of 0°C does not mean the absence of temperature.\n",
        "\n",
        "\n",
        "\n",
        "#Ratio Level:\n",
        "\n",
        "# Ratio data have a meaningful order, uniform intervals, a true zero point, and ratios of values are meaningful. This is the highest level of measurement.\n",
        "Example: Height, weight, and income are examples of ratio data.\n",
        "Definition: Interval data have a meaningful order, and the intervals between values are uniform and measurable. However, there is no true zero point, and ratios of values are not meaningful.\n",
        "Example: Temperature measured in Celsius or Fahrenheit is interval data. While there is a meaningful order and the intervals between degrees are uniform, a temperature of 0°C does not mean the absence of temperature.\n",
        "Ratio Level:\n",
        "\n",
        "# Ratio data have a meaningful order, uniform intervals, a true zero point, and ratios of values are meaningful. This is the highest level of measurement.\n",
        "Example: Height, weight, and income are examples of ratio data.\n",
        " Interval data have a meaningful order, and the intervals between values are uniform and measurable. However, there is no true zero point, and ratios of values are not meaningful.\n",
        "Example: Temperature measured in Celsius or Fahrenheit is interval data. While there is a meaningful order and the intervals between degrees are uniform, a temperature of 0°C does not mean the absence of temperature.\n",
        "Ratio Level:\n",
        "\n",
        "."
      ],
      "metadata": {
        "id": "tRtfeHNjgmvx"
      }
    },
    {
      "cell_type": "markdown",
      "source": [
        "# Q6. Why is it important to understand the level of measurement when analyzing data? Provide an example to illustrate your answer."
      ],
      "metadata": {
        "id": "SoLsMERjgm8d"
      }
    },
    {
      "cell_type": "code",
      "source": [],
      "metadata": {
        "id": "UjYC2ieBhke1"
      },
      "execution_count": null,
      "outputs": []
    },
    {
      "cell_type": "markdown",
      "source": [
        "# ANS:-\n",
        "Understanding the level of measurement is crucial in data analysis because it determines the types of statistical analyses that can be appropriately applied to the data. Different statistical procedures are designed for specific types of data, and using an inappropriate analysis can lead to incorrect conclusions or misinterpretations. Here's an example to illustrate the importance of understanding the level of measurement:\n",
        "\n",
        "Let's consider a scenario where we have data on the favorite colors of individuals in a survey, and the colors are categorized as red, blue, and green. The level of measurement for this variable is nominal because there is no inherent order among the colors; they are just distinct categories.\n",
        "\n",
        "Now, imagine we want to calculate the average (mean) favorite color. Since the colors are nominal, they don't have a numerical value, and it doesn't make sense to calculate the mean. Attempting to do so might lead to a meaningless result, as there is no arithmetic interpretation for the average of colors."
      ],
      "metadata": {
        "id": "LR_w9pOssh4x"
      }
    },
    {
      "cell_type": "code",
      "source": [],
      "metadata": {
        "id": "C3LWIwwhskRq"
      },
      "execution_count": null,
      "outputs": []
    },
    {
      "cell_type": "markdown",
      "source": [
        "# Q7. How nominal data type is different from ordinal data type."
      ],
      "metadata": {
        "id": "Gg6vPYTmsnbx"
      }
    },
    {
      "cell_type": "code",
      "source": [],
      "metadata": {
        "id": "4wQijLsBspn_"
      },
      "execution_count": null,
      "outputs": []
    },
    {
      "cell_type": "markdown",
      "source": [
        "# ANS:-\n",
        "Nominal and ordinal are two distinct levels of measurement in statistics, and they differ in the nature of the information they represent.\n",
        "\n",
        "Nominal Data:\n",
        "\n",
        "Nominal data represent categories or labels with no inherent order or ranking. The categories are distinct and have no quantitative significance.\n",
        "Examples of nominal data include gender (male, female), colors (red, blue, green), or types of fruits (apple, banana, orange).\n",
        "The key characteristic is that there is no implied order or hierarchy among the categories.\n",
        "Ordinal Data:\n",
        "\n",
        "Ordinal data, on the other hand, represent categories with a meaningful order or ranking. While there is a sense of order, the intervals between categories are not necessarily uniform or measurable.\n",
        "Examples of ordinal data include education levels (high school diploma, bachelor's degree, master's degree), socioeconomic status (low, middle, high), or customer satisfaction ratings (poor, fair, good, excellent)."
      ],
      "metadata": {
        "id": "n-EU4T8ms08T"
      }
    },
    {
      "cell_type": "code",
      "source": [],
      "metadata": {
        "id": "VjwHUXHws2s9"
      },
      "execution_count": null,
      "outputs": []
    },
    {
      "cell_type": "markdown",
      "source": [
        "# Q8. Which type of plot can be used to display data in terms of range?"
      ],
      "metadata": {
        "id": "Wjvctp40s_0a"
      }
    },
    {
      "cell_type": "code",
      "source": [],
      "metadata": {
        "id": "jARtKyz8tAmr"
      },
      "execution_count": null,
      "outputs": []
    },
    {
      "cell_type": "markdown",
      "source": [
        "# ANS:-\n",
        "A plot that is commonly used to display data in terms of range is a box plot (also known as a box-and-whisker plot). A box plot provides a visual representation of the distribution of a dataset, including its central tendency, spread, and any potential outliers."
      ],
      "metadata": {
        "id": "xv9jA8bItBJK"
      }
    },
    {
      "cell_type": "code",
      "source": [],
      "metadata": {
        "id": "vR4WhUmDtGOb"
      },
      "execution_count": null,
      "outputs": []
    },
    {
      "cell_type": "markdown",
      "source": [
        "# Q9. Describe the difference between descriptive and inferential statistics. Give an example of each\n",
        "type of statistics and explain how they are used."
      ],
      "metadata": {
        "id": "XfKSC8LltKV7"
      }
    },
    {
      "cell_type": "code",
      "source": [],
      "metadata": {
        "id": "WaP8mSPYtLj4"
      },
      "execution_count": null,
      "outputs": []
    },
    {
      "cell_type": "markdown",
      "source": [
        "# ANS:-\n",
        "\n",
        " Descriptive statistics involves methods for summarizing, organizing, and presenting data. It describes the main features of a dataset, providing a clear and concise summary.\n",
        "Example: Let's say you have collected the heights of students in a class. Descriptive statistics for this data could include calculating the mean height (average), the median height (middle value), and the standard deviation (a measure of the spread of heights). These statistics offer a summary of the central tendency and variability in the heights of the students.\n",
        "\n",
        "\n",
        " Inferential statistics involves making inferences or predictions about a population based on a sample of data drawn from that population. It uses probability theory to draw conclusions about the population parameters.\n",
        "Example: Suppose you want to know if a new teaching method improves test scores for all students in a school. Instead of testing every student,"
      ],
      "metadata": {
        "id": "bMeEk9E2tXEr"
      }
    },
    {
      "cell_type": "code",
      "source": [],
      "metadata": {
        "id": "-0QStFy9tbkI"
      },
      "execution_count": null,
      "outputs": []
    },
    {
      "cell_type": "markdown",
      "source": [
        "# Q10. What are some common measures of central tendency and variability used in statistics? Explain\n",
        "how each measure can be used to describe a dataset."
      ],
      "metadata": {
        "id": "TLLmTWmkth0w"
      }
    },
    {
      "cell_type": "code",
      "source": [],
      "metadata": {
        "id": "2S2qIDeOtjBT"
      },
      "execution_count": null,
      "outputs": []
    },
    {
      "cell_type": "markdown",
      "source": [
        "# ANS:- The three commonly used measures of central tendency are the mean, median, and mode. A statistic that tells us how the data values are dispersed or spread out is called the measure of dispersion. A simple measure of dispersion is the range"
      ],
      "metadata": {
        "id": "Dj666W68t-Dg"
      }
    },
    {
      "cell_type": "code",
      "source": [],
      "metadata": {
        "id": "CmFk_A--t_mi"
      },
      "execution_count": null,
      "outputs": []
    }
  ]
}