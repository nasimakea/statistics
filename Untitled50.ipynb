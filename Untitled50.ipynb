{
  "nbformat": 4,
  "nbformat_minor": 0,
  "metadata": {
    "colab": {
      "provenance": []
    },
    "kernelspec": {
      "name": "python3",
      "display_name": "Python 3"
    },
    "language_info": {
      "name": "python"
    }
  },
  "cells": [
    {
      "cell_type": "code",
      "execution_count": null,
      "metadata": {
        "id": "yjbObAIyylIU"
      },
      "outputs": [],
      "source": []
    },
    {
      "cell_type": "markdown",
      "source": [
        "# Q1. What are the three measures of central tendency?"
      ],
      "metadata": {
        "id": "znZEoW8ByqAZ"
      }
    },
    {
      "cell_type": "code",
      "source": [],
      "metadata": {
        "id": "NKM-8exmyq6l"
      },
      "execution_count": null,
      "outputs": []
    },
    {
      "cell_type": "markdown",
      "source": [
        "# ANS:- There are basically three mesures of central of tendency\n",
        "__(1)__ Mean\n",
        "__(2)__ Median\n",
        "__(3)__ Mode"
      ],
      "metadata": {
        "id": "eYP918hayroB"
      }
    },
    {
      "cell_type": "code",
      "source": [],
      "metadata": {
        "id": "HixJ7oUMzL8K"
      },
      "execution_count": null,
      "outputs": []
    },
    {
      "cell_type": "markdown",
      "source": [
        "when we talk about mean , it is bascially avergae of all the data . let's consider that data of age of ten people\n",
        "Example:- 12,23,34,45,13,24,23,32,43,25\n",
        "\n",
        "then mean=sum of all data/divided by number of data\n",
        "\n",
        "now talking about median , it bascially comes into the picture when outliers are present because mean is inflated in presence of outliers but median is not impacted by the ouliers because it is based on the position unlike mean\n",
        "\n",
        "\n",
        "finally, talkign about mode, we mostly use this when we have categorical data is present and it is the most number of time occuring element in a dataset"
      ],
      "metadata": {
        "id": "oZB7K9VRzM26"
      }
    },
    {
      "cell_type": "markdown",
      "source": [
        "# Q2. What is the difference between the mean, median, and mode? How are they used to measure the central tendency of a dataset?"
      ],
      "metadata": {
        "id": "egVH99Xq0UmX"
      }
    },
    {
      "cell_type": "markdown",
      "source": [
        "# ANS:-\n",
        "\n",
        "mean is the average of the dataset which is easily influenced by the presnce of outliers . it is used as central tendency in absence of outliers around which all data seem to cluster\n",
        "\n",
        "\n",
        "but when ouliers are present , then we don't use mean as the central tendency . Then median comes  into the picture to become the central tendency which is the middle value or sometimes average of the middle value in a dataset\n",
        "\n",
        "\n",
        "\n",
        "but mode is the most frequently occuring data of the dataset , one dataset can have two , three or more mode. it is often used for categorical data"
      ],
      "metadata": {
        "id": "CPGoXuD20hdp"
      }
    },
    {
      "cell_type": "code",
      "source": [],
      "metadata": {
        "id": "qEJb9zcH0e7Z"
      },
      "execution_count": null,
      "outputs": []
    },
    {
      "cell_type": "markdown",
      "source": [
        "# Q3. Measure the three measures of central tendency for the given height data:\n",
        "\n",
        " [178,177,176,177,178.2,178,175,179,180,175,178.9,176.2,177,172.5,178,176.5]"
      ],
      "metadata": {
        "id": "CF3l16Uh3F3u"
      }
    },
    {
      "cell_type": "code",
      "source": [],
      "metadata": {
        "id": "PdSjDn713Hmt"
      },
      "execution_count": null,
      "outputs": []
    },
    {
      "cell_type": "markdown",
      "source": [
        "# ANS:-\n",
        "\n",
        "Let's denote the given dataset by l , by considering it a list. let's find central tendency"
      ],
      "metadata": {
        "id": "9nxFRJvj3ZpJ"
      }
    },
    {
      "cell_type": "code",
      "source": [
        "l=[178,177,176,177,178.2,178,175,179,180,175,178.9,176.2,177,172.5,178,176.5]"
      ],
      "metadata": {
        "id": "BnkXjmE13bY-"
      },
      "execution_count": 2,
      "outputs": []
    },
    {
      "cell_type": "code",
      "source": [
        "sum=0\n",
        "for i in l :\n",
        "  sum +=i\n",
        "\n",
        "print(sum)"
      ],
      "metadata": {
        "colab": {
          "base_uri": "https://localhost:8080/"
        },
        "id": "3qm0ExDi3t3X",
        "outputId": "8e5d6786-7bfe-46b3-accd-b1648a80412a"
      },
      "execution_count": 3,
      "outputs": [
        {
          "output_type": "stream",
          "name": "stdout",
          "text": [
            "2832.3\n"
          ]
        }
      ]
    },
    {
      "cell_type": "code",
      "source": [
        "mean=sum/len(l)"
      ],
      "metadata": {
        "id": "3CQfYQuC4BOa"
      },
      "execution_count": 4,
      "outputs": []
    },
    {
      "cell_type": "code",
      "source": [
        "mean"
      ],
      "metadata": {
        "colab": {
          "base_uri": "https://localhost:8080/"
        },
        "id": "RDYAonWM4IWS",
        "outputId": "270ca92a-0fa3-4a17-9248-1f050a9be5a0"
      },
      "execution_count": 5,
      "outputs": [
        {
          "output_type": "execute_result",
          "data": {
            "text/plain": [
              "177.01875"
            ]
          },
          "metadata": {},
          "execution_count": 5
        }
      ]
    },
    {
      "cell_type": "code",
      "source": [
        "import numpy as np"
      ],
      "metadata": {
        "id": "4oDbN_4y4Ja9"
      },
      "execution_count": 13,
      "outputs": []
    },
    {
      "cell_type": "code",
      "source": [
        "median=np.median(l)"
      ],
      "metadata": {
        "id": "PMju8II04QfM"
      },
      "execution_count": 14,
      "outputs": []
    },
    {
      "cell_type": "code",
      "source": [
        "print(median)"
      ],
      "metadata": {
        "colab": {
          "base_uri": "https://localhost:8080/"
        },
        "id": "AVAw4zue4RUD",
        "outputId": "a118af83-52d9-4b5a-b88f-e12b9a4e9238"
      },
      "execution_count": 15,
      "outputs": [
        {
          "output_type": "stream",
          "name": "stdout",
          "text": [
            "177.0\n"
          ]
        }
      ]
    },
    {
      "cell_type": "code",
      "source": [
        "from statistics import mode"
      ],
      "metadata": {
        "id": "tUXQPuwr4l5D"
      },
      "execution_count": 16,
      "outputs": []
    },
    {
      "cell_type": "code",
      "source": [
        "mode=mode(l)"
      ],
      "metadata": {
        "id": "v3iuzfnw4uK3"
      },
      "execution_count": 17,
      "outputs": []
    },
    {
      "cell_type": "code",
      "source": [
        "print(mode)"
      ],
      "metadata": {
        "colab": {
          "base_uri": "https://localhost:8080/"
        },
        "id": "6BG3vGzK4wsy",
        "outputId": "38d2258a-9778-4662-b02f-a6d8f11545c3"
      },
      "execution_count": 18,
      "outputs": [
        {
          "output_type": "stream",
          "name": "stdout",
          "text": [
            "177\n"
          ]
        }
      ]
    },
    {
      "cell_type": "code",
      "source": [],
      "metadata": {
        "id": "hzuP1BpE4x8z"
      },
      "execution_count": null,
      "outputs": []
    },
    {
      "cell_type": "markdown",
      "source": [
        "# Q4. Find the standard deviation for the given data:\n",
        "\n",
        "[178,177,176,177,178.2,178,175,179,180,175,178.9,176.2,177,172.5,178,176.5]"
      ],
      "metadata": {
        "id": "4mTCAgCo43h2"
      }
    },
    {
      "cell_type": "code",
      "source": [],
      "metadata": {
        "id": "zuMNPc82452l"
      },
      "execution_count": null,
      "outputs": []
    },
    {
      "cell_type": "markdown",
      "source": [
        "# ANS :- we will find standard deviation using some loop and calculation , we will not directly import numpy to find standard deviation"
      ],
      "metadata": {
        "id": "5-SmhhdK5rNN"
      }
    },
    {
      "cell_type": "code",
      "source": [
        "sum=0\n",
        "l=[178,177,176,177,178.2,178,175,179,180,175,178.9,176.2,177,172.5,178,176.5]\n",
        "for i in l :\n",
        "  sum +=i\n",
        "mean=sum/len(l)"
      ],
      "metadata": {
        "id": "KOEYuBtA57io"
      },
      "execution_count": 19,
      "outputs": []
    },
    {
      "cell_type": "code",
      "source": [
        "print(mean)"
      ],
      "metadata": {
        "colab": {
          "base_uri": "https://localhost:8080/"
        },
        "id": "joNDVWsC6R1o",
        "outputId": "eae466c6-c84a-4c77-9e54-071606b687f1"
      },
      "execution_count": 20,
      "outputs": [
        {
          "output_type": "stream",
          "name": "stdout",
          "text": [
            "177.01875\n"
          ]
        }
      ]
    },
    {
      "cell_type": "code",
      "source": [
        "std=0\n",
        "for j in l :\n",
        "  std += (mean-j)**2\n",
        "\n",
        "\n",
        "standard_deviation= (std/len(l))**0.5\n",
        "print(standard_deviation)\n"
      ],
      "metadata": {
        "colab": {
          "base_uri": "https://localhost:8080/"
        },
        "id": "NZq4304S6URo",
        "outputId": "00912adb-c693-4779-d1f3-c8c800fabae7"
      },
      "execution_count": 21,
      "outputs": [
        {
          "output_type": "stream",
          "name": "stdout",
          "text": [
            "1.7885814036548633\n"
          ]
        }
      ]
    },
    {
      "cell_type": "code",
      "source": [],
      "metadata": {
        "id": "nLluAe-97QBF"
      },
      "execution_count": null,
      "outputs": []
    },
    {
      "cell_type": "markdown",
      "source": [
        "now we will cross verify using numpy"
      ],
      "metadata": {
        "id": "stGtX2si7SOP"
      }
    },
    {
      "cell_type": "code",
      "source": [
        "import numpy as np"
      ],
      "metadata": {
        "id": "m7acq_Do7WNM"
      },
      "execution_count": 22,
      "outputs": []
    },
    {
      "cell_type": "code",
      "source": [
        "standard_deviat=np.std(l)\n",
        "print(standard_deviat)"
      ],
      "metadata": {
        "colab": {
          "base_uri": "https://localhost:8080/"
        },
        "id": "bpYJw2vW7YKi",
        "outputId": "65fcf158-4cae-472d-877c-5b59f2b62e59"
      },
      "execution_count": 23,
      "outputs": [
        {
          "output_type": "stream",
          "name": "stdout",
          "text": [
            "1.7885814036548633\n"
          ]
        }
      ]
    },
    {
      "cell_type": "code",
      "source": [],
      "metadata": {
        "id": "ZU8lpkvl7jev"
      },
      "execution_count": null,
      "outputs": []
    },
    {
      "cell_type": "markdown",
      "source": [
        "# Q5. How are measures of dispersion such as range, variance, and standard deviation used to describe\n",
        "the spread of a dataset? Provide an example."
      ],
      "metadata": {
        "id": "EwMN_szF7o1T"
      }
    },
    {
      "cell_type": "code",
      "source": [],
      "metadata": {
        "id": "zYPlYIlv7qSn"
      },
      "execution_count": null,
      "outputs": []
    },
    {
      "cell_type": "markdown",
      "source": [
        "# ANS:-\n",
        "Measures of dispersion, including range, variance, and standard deviation, quantify how spread out data points are in a dataset. Range is the difference between the maximum and minimum values. Variance is the average squared deviation from the mean. Standard deviation is the square root of the variance, providing a more interpretable measure. For example, in a dataset [5, 10, 15, 20, 25], the range is 20, the variance might be 50, and the standard deviation is the square root of 50. These measures aid in understanding the variability and distribution of data."
      ],
      "metadata": {
        "id": "rXC4v00R8PhO"
      }
    },
    {
      "cell_type": "code",
      "source": [],
      "metadata": {
        "id": "P7BEIKj38SI4"
      },
      "execution_count": null,
      "outputs": []
    },
    {
      "cell_type": "markdown",
      "source": [
        "# Q6. What is a Venn diagram?"
      ],
      "metadata": {
        "id": "cCbdxaSX8TLd"
      }
    },
    {
      "cell_type": "code",
      "source": [],
      "metadata": {
        "id": "O2_OfYVS8Voa"
      },
      "execution_count": null,
      "outputs": []
    },
    {
      "cell_type": "markdown",
      "source": [
        "# ANS:-\n",
        "\n",
        "A Venn diagram is a visual representation that uses overlapping circles to show the relationships between data sets. Each circle represents a data set, and the overlapping areas indicate shared elements between data sets"
      ],
      "metadata": {
        "id": "YlkaRiEd9Hk2"
      }
    },
    {
      "cell_type": "code",
      "source": [],
      "metadata": {
        "id": "q69ttetk9POO"
      },
      "execution_count": null,
      "outputs": []
    },
    {
      "cell_type": "markdown",
      "source": [
        "# Q7. For the two given sets A = (2,3,4,5,6,7) & B = (0,2,6,8,10). Find:\n",
        "\n",
        "(i) \tA B\n",
        "\n",
        "(ii)\tA ⋃ B"
      ],
      "metadata": {
        "id": "At8_G6Wn9RFM"
      }
    },
    {
      "cell_type": "code",
      "source": [],
      "metadata": {
        "id": "N45ZRjMs9URO"
      },
      "execution_count": null,
      "outputs": []
    },
    {
      "cell_type": "markdown",
      "source": [
        "# ANS :- We will not directly find this since it is easy , so we will find intersection and union between both dataset using code and some logic"
      ],
      "metadata": {
        "id": "jMr_Syem9U7S"
      }
    },
    {
      "cell_type": "code",
      "source": [
        "# Given sets A and B\n",
        "A = (2, 3, 4, 5, 6, 7)\n",
        "B = (0, 2, 6, 8, 10)\n",
        "\n",
        "# Initialize empty sets for intersection and union\n",
        "intersection_set = set()\n",
        "union_set = set()\n",
        "\n",
        "# Find intersection (A ∩ B)\n",
        "for element in A:\n",
        "    if element in B:\n",
        "        intersection_set.add(element)\n",
        "\n",
        "# Find union (A ∪ B)\n",
        "union_set.update(A)\n",
        "union_set.update(B)\n",
        "\n",
        "# Convert the sets back to tuples if needed\n",
        "intersection_result = tuple(sorted(intersection_set))\n",
        "union_result = tuple(sorted(union_set))\n",
        "\n",
        "# Print the results\n",
        "print(\"(i) A ∩ B:\", intersection_result)\n",
        "print(\"(ii) A ∪ B:\", union_result)\n"
      ],
      "metadata": {
        "colab": {
          "base_uri": "https://localhost:8080/"
        },
        "id": "ZbUjUW7F9mzN",
        "outputId": "e4a21dbc-705f-4304-cd11-ceb4385e7be2"
      },
      "execution_count": 37,
      "outputs": [
        {
          "output_type": "stream",
          "name": "stdout",
          "text": [
            "(i) A ∩ B: (2, 6)\n",
            "(ii) A ∪ B: (0, 2, 3, 4, 5, 6, 7, 8, 10)\n"
          ]
        }
      ]
    },
    {
      "cell_type": "markdown",
      "source": [
        "# Q8. What do you understand about skewness in data?"
      ],
      "metadata": {
        "id": "kvq8GybbAE_Q"
      }
    },
    {
      "cell_type": "code",
      "source": [],
      "metadata": {
        "id": "VYII298mAJT_"
      },
      "execution_count": null,
      "outputs": []
    },
    {
      "cell_type": "markdown",
      "source": [
        "# ANS:-\n",
        "\n",
        "\n",
        "Skewness in data refers to the asymmetry in its distribution. A dataset is considered skewed if the tail on one side of the distribution is longer or fatter than the other, indicating a lack of symmetry. Positive skewness means the right tail is longer, while negative skewness indicates a longer left tail. It happens due to presence of outliers when data is present out of lower bond or upper bond when talking in terms of boxpllot"
      ],
      "metadata": {
        "id": "ywN0TplcAJ2H"
      }
    },
    {
      "cell_type": "code",
      "source": [],
      "metadata": {
        "id": "WwePRLkXAj-A"
      },
      "execution_count": null,
      "outputs": []
    },
    {
      "cell_type": "markdown",
      "source": [
        "#Q9. If a data is right skewed then what will be the position of median with respect to mean?"
      ],
      "metadata": {
        "id": "dCBmaQ_RApM8"
      }
    },
    {
      "cell_type": "code",
      "source": [],
      "metadata": {
        "id": "-JA020CPArQ-"
      },
      "execution_count": null,
      "outputs": []
    },
    {
      "cell_type": "markdown",
      "source": [
        "# ANS :-\n",
        "In a right-skewed distribution, the median will be less than the mean."
      ],
      "metadata": {
        "id": "66zVTtCeBF5l"
      }
    },
    {
      "cell_type": "code",
      "source": [],
      "metadata": {
        "id": "9JaH39RGBHvY"
      },
      "execution_count": null,
      "outputs": []
    },
    {
      "cell_type": "markdown",
      "source": [
        "# Q10. Explain the difference between covariance and correlation. How are these measures used in statistical analysis?"
      ],
      "metadata": {
        "id": "0z62moOGBIqs"
      }
    },
    {
      "cell_type": "code",
      "source": [],
      "metadata": {
        "id": "xMPefegcBNy2"
      },
      "execution_count": null,
      "outputs": []
    },
    {
      "cell_type": "markdown",
      "source": [
        "# ANS ▶\n",
        "\n",
        "Covariance measures the extent to which two variables change together, while correlation is a standardized measure that expresses this relationship on a scale from -1 to 1. Covariance provides the direction of the relationship, while correlation also indicates the strength. Both are used in statistical analysis to assess the degree and nature of the association between two variables"
      ],
      "metadata": {
        "id": "TQvrgaRXBan5"
      }
    },
    {
      "cell_type": "code",
      "source": [],
      "metadata": {
        "id": "MQq_NoJ0Bf_S"
      },
      "execution_count": null,
      "outputs": []
    },
    {
      "cell_type": "markdown",
      "source": [
        "# Q11. What is the formula for calculating the sample mean? Provide an example calculation for a dataset."
      ],
      "metadata": {
        "id": "S0WSh1RoBh6-"
      }
    },
    {
      "cell_type": "code",
      "source": [],
      "metadata": {
        "id": "NOzICQdYCE1i"
      },
      "execution_count": null,
      "outputs": []
    },
    {
      "cell_type": "markdown",
      "source": [
        "# ANS\n",
        "\n",
        "The formula for calculating the sample mean\n",
        "\n",
        "x1= sum of elements in sample/number of elements\n",
        "\n",
        "\n",
        "\n",
        "\n",
        "\n",
        "\n",
        "\n",
        "Example:\n",
        "For a dataset [12, 18, 24, 15, 21], the sample mean is calculated as:\n",
        "\n",
        "\n",
        "ˉ\n",
        "=\n",
        "12\n",
        "+\n",
        "18\n",
        "+\n",
        "24\n",
        "+\n",
        "15\n",
        "+\n",
        "21\n",
        "5\n",
        "=\n",
        "90\n",
        "5\n",
        "=\n",
        "18\n",
        "x\n",
        "ˉ\n",
        " =\n",
        "5\n",
        "12+18+24+15+21\n",
        "​\n",
        " =\n",
        "5\n",
        "90\n",
        "​\n",
        " =18"
      ],
      "metadata": {
        "id": "kfKGv4p4CNhw"
      }
    },
    {
      "cell_type": "code",
      "source": [],
      "metadata": {
        "id": "MIGcaZ7nCdhH"
      },
      "execution_count": null,
      "outputs": []
    },
    {
      "cell_type": "markdown",
      "source": [
        "# Q12. For a normal distribution data what is the relationship between its measure of central tendency?"
      ],
      "metadata": {
        "id": "QmH9F_xOCmM8"
      }
    },
    {
      "cell_type": "code",
      "source": [],
      "metadata": {
        "id": "2FGGWP2yCnTN"
      },
      "execution_count": null,
      "outputs": []
    },
    {
      "cell_type": "markdown",
      "source": [
        "# ANS :-\n",
        "\n",
        "For a normal distribution, the mean, median, and mode are all equal and located at the center of the distribution. the data is equally distributed on the both side.\n"
      ],
      "metadata": {
        "id": "ObxhVh2WCvKK"
      }
    },
    {
      "cell_type": "markdown",
      "source": [
        "#Q13. How is covariance different from correlation?"
      ],
      "metadata": {
        "id": "25BuYGeZEIdy"
      }
    },
    {
      "cell_type": "code",
      "source": [],
      "metadata": {
        "id": "0iz9Ij3JEDwq"
      },
      "execution_count": null,
      "outputs": []
    },
    {
      "cell_type": "markdown",
      "source": [
        "# ANS:-\n",
        "\n",
        "\n",
        "Covariance measures the extent to which two variables change together, while correlation is a standardized measure that provides the direction and strength of the linear relationship between two variables, making it easier to interpret than covariance"
      ],
      "metadata": {
        "id": "TkrZ_VbIESrL"
      }
    },
    {
      "cell_type": "code",
      "source": [],
      "metadata": {
        "id": "3rNMpG9fEUQJ"
      },
      "execution_count": null,
      "outputs": []
    },
    {
      "cell_type": "markdown",
      "source": [
        "# Q14. How do outliers affect measures of central tendency and dispersion? Provide an example"
      ],
      "metadata": {
        "id": "ayITvXQtEWPV"
      }
    },
    {
      "cell_type": "code",
      "source": [],
      "metadata": {
        "id": "Ig914hC3EXgB"
      },
      "execution_count": null,
      "outputs": []
    },
    {
      "cell_type": "markdown",
      "source": [
        "# ANS:-\n",
        "\n",
        "Outliers can significantly impact measures of central tendency, such as the mean, pulling it towards extreme values. They also affect measures of dispersion, like standard deviation, making them larger. For instance, consider the dataset [10, 15, 20, 25, 100]. The mean is 34, significantly influenced by the outlier 100, and the standard deviation is higher due to the increased spread caused by the outlier."
      ],
      "metadata": {
        "id": "ku2YXSeyEg5T"
      }
    },
    {
      "cell_type": "code",
      "source": [],
      "metadata": {
        "id": "s-ctjycvEiXs"
      },
      "execution_count": null,
      "outputs": []
    }
  ]
}